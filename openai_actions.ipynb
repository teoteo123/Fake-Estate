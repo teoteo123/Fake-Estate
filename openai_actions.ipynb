{
 "cells": [
  {
   "attachments": {},
   "cell_type": "markdown",
   "metadata": {},
   "source": [
    "# Experiments with openai actions\n",
    "In this notebook, I perform some experimentation with the capabilities of openai's assistants API.  I plan to see how effective it is at extracting locations and property features from a query and using that data to identify which calls to make to reapi"
   ]
  },
  {
   "cell_type": "code",
   "execution_count": 43,
   "metadata": {},
   "outputs": [],
   "source": [
    "\n",
    "import os\n",
    "from dotenv import load_dotenv\n",
    "load_dotenv() # Load in OPENAI_API_KEY, REAPI_API_KEY\n",
    "from openai import OpenAI\n",
    "from helpers import wait_on_run, create_thread_and_run, submit_message, get_response\n",
    "import requests\n",
    "\n",
    "\n",
    "import json\n",
    "\n",
    "def show_json(obj):\n",
    "    display(json.loads(obj.model_dump_json()))\n"
   ]
  },
  {
   "attachments": {},
   "cell_type": "markdown",
   "metadata": {},
   "source": [
    "## Create new assistant"
   ]
  },
  {
   "cell_type": "code",
   "execution_count": null,
   "metadata": {},
   "outputs": [],
   "source": [
    "client = OpenAI()\n",
    "assistant = client.beta.assistants.create(\n",
    "\tname=\"Property Finder\",\n",
    "\tinstructions=\"\",\n",
    "\tmodel=\"gpt-4-1106-preview\",\n",
    ")"
   ]
  },
  {
   "attachments": {},
   "cell_type": "markdown",
   "metadata": {},
   "source": [
    "## Use existing assistant ID"
   ]
  },
  {
   "cell_type": "code",
   "execution_count": 23,
   "metadata": {},
   "outputs": [],
   "source": [
    "ASSISTANT_ID=\"asst_I1A0q0vqDL1Nwx6kpN1lBTxC\"\n",
    "assistant = client.beta.assistants.retrieve(ASSISTANT_ID)"
   ]
  },
  {
   "attachments": {},
   "cell_type": "markdown",
   "metadata": {},
   "source": [
    "## Initiate Message Thread"
   ]
  },
  {
   "cell_type": "code",
   "execution_count": 9,
   "metadata": {},
   "outputs": [
    {
     "data": {
      "text/plain": [
       "{'id': 'thread_lGoYOH0yaHN28e2wg46LoAe1',\n",
       " 'created_at': 1704831029,\n",
       " 'metadata': {},\n",
       " 'object': 'thread'}"
      ]
     },
     "metadata": {},
     "output_type": "display_data"
    }
   ],
   "source": [
    "thread = client.beta.threads.create()\n",
    "show_json(thread)"
   ]
  },
  {
   "attachments": {},
   "cell_type": "markdown",
   "metadata": {},
   "source": [
    "## Sending Messages"
   ]
  },
  {
   "attachments": {},
   "cell_type": "markdown",
   "metadata": {},
   "source": [
    "### Construct the Message"
   ]
  },
  {
   "cell_type": "code",
   "execution_count": 11,
   "metadata": {},
   "outputs": [],
   "source": [
    "message = client.beta.threads.messages.create(\n",
    "    thread_id=thread.id,\n",
    "    role=\"user\",\n",
    "    content=\"I need to solve the equation `3x + 11 = 14`. Can you help me?\",\n",
    ")\n"
   ]
  },
  {
   "attachments": {},
   "cell_type": "markdown",
   "metadata": {},
   "source": [
    "### Send the Message"
   ]
  },
  {
   "cell_type": "code",
   "execution_count": null,
   "metadata": {},
   "outputs": [],
   "source": [
    "run = client.beta.threads.runs.create(\n",
    "    thread_id=thread.id,\n",
    "    assistant_id=assistant.id,\n",
    ") # returns a preliminary object immediately and asynchronously calls the api.  Must wait on a response.\n",
    "run = wait_on_run(run, thread)"
   ]
  },
  {
   "attachments": {},
   "cell_type": "markdown",
   "metadata": {},
   "source": [
    "### Show AI Response messages in the given thread \n",
    "(For simple qa threads with only one propt)"
   ]
  },
  {
   "cell_type": "code",
   "execution_count": 21,
   "metadata": {},
   "outputs": [
    {
     "name": "stdout",
     "output_type": "stream",
     "text": [
      "[\"Certainly! To solve the equation `3x + 11 = 14` for x, you'll need to isolate x on one side of the equation. Here's how you can do that step-by-step:\\n\\n1. **Subtract 11 from both sides of the equation:**\\n\\n   `3x + 11 - 11 = 14 - 11`\\n\\n   This simplifies to:\\n\\n   `3x = 3`\\n\\n2. **Divide both sides of the equation by 3:**\\n\\n   `(3x) / 3 = 3 / 3`\\n\\n   This simplifies to:\\n\\n   `x = 1`\\n  \\nSo the solution to the equation `3x + 11 = 14` is `x = 1`.\", '']\n"
     ]
    }
   ],
   "source": [
    "messages = client.beta.threads.messages.list(thread_id=thread.id)\n",
    "#show_json(messages)\n",
    "print([msg.content[0].text.value if msg.role == 'assistant' else \"\" for msg in messages.data])"
   ]
  },
  {
   "attachments": {},
   "cell_type": "markdown",
   "metadata": {},
   "source": [
    "## Exctracting data from the prompt as json"
   ]
  },
  {
   "cell_type": "code",
   "execution_count": 36,
   "metadata": {},
   "outputs": [],
   "source": [
    "from langchain.chat_models import ChatOpenAI\n",
    "model = ChatOpenAI(model='gpt-4-1106-preview')\n",
    "\n",
    "from langchain.chains import create_extraction_chain\n",
    "\n",
    "schema = {\n",
    "    \"properties\": {\n",
    "\t\t\t\t\"location\": {\"type\": \"string\"},\n",
    "    \t\t\"beds\": {\"type\": \"integer\"},\n",
    "    \t\t\"baths\": {\"type\": \"integer\"},\n",
    "\t\t\t\t\"max_price\": {\"type\": \"integer\"}\n",
    "    },\n",
    "    \"required\": [],\n",
    "}\n",
    "\n",
    "extraction_chain = create_extraction_chain(schema, model)"
   ]
  },
  {
   "cell_type": "code",
   "execution_count": 37,
   "metadata": {},
   "outputs": [],
   "source": [
    "prompt = \"find me a three bed, 2 bath house with a pool and a firepit for about 600,000 in flagler beach, Florida\"\n",
    "extracted_data = extraction_chain.run(prompt)"
   ]
  },
  {
   "cell_type": "code",
   "execution_count": 71,
   "metadata": {},
   "outputs": [],
   "source": [
    "\n",
    "\n",
    "autocomplete_url = \"https://api.realestateapi.com/v2/AutoComplete\"\n",
    "\n",
    "autocomplete_payload = {\n",
    "    \"search\": \"Flagler beach, Fl\"\n",
    "}\n",
    "autocomplete_headers = {\n",
    "    \"accept\": \"application/json\",\n",
    "    \"x-user-id\": \"theo\",\n",
    "    \"content-type\": \"application/json\",\n",
    "\t\"x-api-key\": \"COMPASS-cd32-712d-98ae-855716d9f8f2\"\n",
    "}\n",
    "\n",
    "autocomplete_response = requests.post(autocomplete_url, json=autocomplete_payload, headers=autocomplete_headers)"
   ]
  },
  {
   "cell_type": "code",
   "execution_count": 86,
   "metadata": {},
   "outputs": [],
   "source": [
    "\n",
    "beds = extracted_data[0]['beds']\n",
    "baths = extracted_data[0]['baths']\n",
    "max_price = extracted_data[0]['max_price']\n",
    "city = json.loads(autocomplete_response.content)['data'][0]['city']\n",
    "state = json.loads(autocomplete_response.content)['data'][0]['state']\n",
    "# json.loads(autocomplete_response.content)['data'][0]\n",
    "\n",
    "property_search_url = \"https://api.realestateapi.com/v2/PropertySearch\"\n",
    "\n",
    "property_search_payload = {\n",
    "\t\t\"ids_only\": False,\n",
    "    \"obfuscate\": False,\n",
    "    \"summary\": False,\n",
    "    \"size\": 5,\n",
    "    \"city\": city,\n",
    "    \"state\": state,\n",
    "\t\t\"beds_min\": beds,\n",
    "\t\t\"baths_min\": baths,\n",
    "\t\t\"mls_listing_price\": max_price,\n",
    "\t\t\"mls_listing_price_operator\": \"lte\",\n",
    "\t\t\"mls_active\": True\n",
    "\t\t\n",
    "\n",
    "}\n",
    "property_search_headers = {\n",
    "    \"accept\": \"application/json\",\n",
    "    \"x-user-id\": \"theo\",\n",
    "    \"content-type\": \"application/json\",\n",
    "\t\t\"x-api-key\": \"COMPASS-cd32-712d-98ae-855716d9f8f2\"\n",
    "}\n",
    "\n",
    "property_search_response = requests.post(property_search_url, json=property_search_payload, headers=property_search_headers)"
   ]
  },
  {
   "cell_type": "code",
   "execution_count": 92,
   "metadata": {},
   "outputs": [
    {
     "data": {
      "text/plain": [
       "['1635 S Flagler Ave, Flagler Beach, Fl 32136',\n",
       " '11 Windward Dr, Flagler Beach, Fl 32136',\n",
       " '16 Westmayer Pl, Flagler Beach, Fl 32136',\n",
       " '212 S 8th St, Flagler Beach, Fl 32136',\n",
       " '1247 S Flagler Ave, Flagler Beach, Fl 32136']"
      ]
     },
     "execution_count": 92,
     "metadata": {},
     "output_type": "execute_result"
    }
   ],
   "source": [
    "[listing['address']['address'] for listing in json.loads(property_search_response.content)['data']]"
   ]
  }
 ],
 "metadata": {
  "kernelspec": {
   "display_name": ".venv",
   "language": "python",
   "name": "python3"
  },
  "language_info": {
   "codemirror_mode": {
    "name": "ipython",
    "version": 3
   },
   "file_extension": ".py",
   "mimetype": "text/x-python",
   "name": "python",
   "nbconvert_exporter": "python",
   "pygments_lexer": "ipython3",
   "version": "3.11.6"
  },
  "orig_nbformat": 4
 },
 "nbformat": 4,
 "nbformat_minor": 2
}
