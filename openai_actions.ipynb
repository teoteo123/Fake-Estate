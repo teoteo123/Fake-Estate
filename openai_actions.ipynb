{
 "cells": [
  {
   "attachments": {},
   "cell_type": "markdown",
   "metadata": {},
   "source": [
    "# Experiments with openai actions\n",
    "In this notebook, I perform some experimentation with the capabilities of openai's assistants API.  I plan to see how effective it is at extracting locations and property features from a query and using that data to identify which calls to make to reapi"
   ]
  },
  {
   "cell_type": "code",
   "execution_count": 2,
   "metadata": {},
   "outputs": [],
   "source": [
    "\n",
    "import os\n",
    "from dotenv import load_dotenv\n",
    "load_dotenv() # Load in OPENAI_API_KEY, REAPI_API_KEY\n",
    "from openai import OpenAI\n",
    "from helpers import wait_on_run, create_thread_and_run, submit_message, get_response\n",
    "\n",
    "\n",
    "import json\n",
    "\n",
    "def show_json(obj):\n",
    "    display(json.loads(obj.model_dump_json()))\n"
   ]
  },
  {
   "attachments": {},
   "cell_type": "markdown",
   "metadata": {},
   "source": [
    "## Create new assistant"
   ]
  },
  {
   "cell_type": "code",
   "execution_count": null,
   "metadata": {},
   "outputs": [],
   "source": [
    "client = OpenAI()\n",
    "assistant = client.beta.assistants.create(\n",
    "\tname=\"Property Finder\",\n",
    "\tinstructions=\"\",\n",
    "\tmodel=\"gpt-4-1106-preview\",\n",
    ")"
   ]
  },
  {
   "attachments": {},
   "cell_type": "markdown",
   "metadata": {},
   "source": [
    "## Use existing assistant ID"
   ]
  },
  {
   "cell_type": "code",
   "execution_count": null,
   "metadata": {},
   "outputs": [],
   "source": [
    "ASSISTANT_ID=\"asst_I1A0q0vqDL1Nwx6kpN1lBTxC\"\n",
    "assistant = client.beta.assistants.retrieve(ASSISTANT_ID)"
   ]
  },
  {
   "attachments": {},
   "cell_type": "markdown",
   "metadata": {},
   "source": [
    "## Initiate Message Thread"
   ]
  },
  {
   "cell_type": "code",
   "execution_count": 9,
   "metadata": {},
   "outputs": [
    {
     "data": {
      "text/plain": [
       "{'id': 'thread_lGoYOH0yaHN28e2wg46LoAe1',\n",
       " 'created_at': 1704831029,\n",
       " 'metadata': {},\n",
       " 'object': 'thread'}"
      ]
     },
     "metadata": {},
     "output_type": "display_data"
    }
   ],
   "source": [
    "thread = client.beta.threads.create()\n",
    "show_json(thread)"
   ]
  },
  {
   "attachments": {},
   "cell_type": "markdown",
   "metadata": {},
   "source": [
    "## Sending Messages"
   ]
  },
  {
   "attachments": {},
   "cell_type": "markdown",
   "metadata": {},
   "source": [
    "### Construct the Message"
   ]
  },
  {
   "cell_type": "code",
   "execution_count": 11,
   "metadata": {},
   "outputs": [],
   "source": [
    "message = client.beta.threads.messages.create(\n",
    "    thread_id=thread.id,\n",
    "    role=\"user\",\n",
    "    content=\"I need to solve the equation `3x + 11 = 14`. Can you help me?\",\n",
    ")\n"
   ]
  },
  {
   "attachments": {},
   "cell_type": "markdown",
   "metadata": {},
   "source": [
    "### Send the Message"
   ]
  },
  {
   "cell_type": "code",
   "execution_count": null,
   "metadata": {},
   "outputs": [],
   "source": [
    "run = client.beta.threads.runs.create(\n",
    "    thread_id=thread.id,\n",
    "    assistant_id=assistant.id,\n",
    ") # returns a preliminary object immediately and asynchronously calls the api.  Must wait on a response.\n",
    "run = wait_on_run(run, thread)"
   ]
  },
  {
   "attachments": {},
   "cell_type": "markdown",
   "metadata": {},
   "source": [
    "### Show AI Response messages in the given thread \n",
    "(For simple qa threads with only one propt)"
   ]
  },
  {
   "cell_type": "code",
   "execution_count": 21,
   "metadata": {},
   "outputs": [
    {
     "name": "stdout",
     "output_type": "stream",
     "text": [
      "[\"Certainly! To solve the equation `3x + 11 = 14` for x, you'll need to isolate x on one side of the equation. Here's how you can do that step-by-step:\\n\\n1. **Subtract 11 from both sides of the equation:**\\n\\n   `3x + 11 - 11 = 14 - 11`\\n\\n   This simplifies to:\\n\\n   `3x = 3`\\n\\n2. **Divide both sides of the equation by 3:**\\n\\n   `(3x) / 3 = 3 / 3`\\n\\n   This simplifies to:\\n\\n   `x = 1`\\n  \\nSo the solution to the equation `3x + 11 = 14` is `x = 1`.\", '']\n"
     ]
    }
   ],
   "source": [
    "messages = client.beta.threads.messages.list(thread_id=thread.id)\n",
    "#show_json(messages)\n",
    "print([msg.content[0].text.value if msg.role == 'assistant' else \"\" for msg in messages.data])"
   ]
  }
 ],
 "metadata": {
  "kernelspec": {
   "display_name": ".venv",
   "language": "python",
   "name": "python3"
  },
  "language_info": {
   "codemirror_mode": {
    "name": "ipython",
    "version": 3
   },
   "file_extension": ".py",
   "mimetype": "text/x-python",
   "name": "python",
   "nbconvert_exporter": "python",
   "pygments_lexer": "ipython3",
   "version": "3.11.6"
  },
  "orig_nbformat": 4
 },
 "nbformat": 4,
 "nbformat_minor": 2
}
